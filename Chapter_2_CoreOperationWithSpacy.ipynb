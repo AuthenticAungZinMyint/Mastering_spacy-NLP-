{
 "cells": [
  {
   "cell_type": "code",
   "execution_count": 2,
   "id": "207f200c",
   "metadata": {},
   "outputs": [
    {
     "name": "stdout",
     "output_type": "stream",
     "text": [
      "['I', 'own', 'a', 'ginger', 'cat', '.']\n"
     ]
    }
   ],
   "source": [
    "#ProcessingPipeLineComponent\n",
    "#tokenization\n",
    "\n",
    "import spacy\n",
    "\n",
    "nlp = spacy.load('en_core_web_md')\n",
    "doc = nlp('I own a ginger cat.')\n",
    "tokenized_doc = [token.text for token in doc]\n",
    "print(tokenized_doc)\n"
   ]
  },
  {
   "cell_type": "code",
   "execution_count": 3,
   "id": "c7f46d9f",
   "metadata": {},
   "outputs": [
    {
     "name": "stdout",
     "output_type": "stream",
     "text": [
      "['It', \"'s\", 'been', 'a', 'crazy', 'week', '!', '!', '!']\n"
     ]
    }
   ],
   "source": [
    "import spacy\n",
    "nlp = spacy.load('en_core_web_md')\n",
    "doc = nlp(\"It's been a crazy week!!!\")\n",
    "print([token.text for token in doc])"
   ]
  },
  {
   "cell_type": "code",
   "execution_count": 4,
   "id": "c6cc47ec",
   "metadata": {},
   "outputs": [
    {
     "name": "stdout",
     "output_type": "stream",
     "text": [
      "['lemme', 'that']\n"
     ]
    }
   ],
   "source": [
    "#add special case rule to an existing tokenizer\n",
    "\n",
    "import spacy\n",
    "from spacy.symbols import ORTH\n",
    "nlp = spacy.load('en_core_web_md')\n",
    "doc = nlp('lemme that')\n",
    "print([w.text for w in doc])"
   ]
  },
  {
   "cell_type": "code",
   "execution_count": 6,
   "id": "7dd118ab",
   "metadata": {},
   "outputs": [
    {
     "name": "stdout",
     "output_type": "stream",
     "text": [
      "['lem', 'me', 'that']\n"
     ]
    }
   ],
   "source": [
    "special_case = [{ORTH: \"lem\"}, {ORTH: \"me\"}]\n",
    "nlp.tokenizer.add_special_case(\"lemme\", special_case)\n",
    "print([w.text for w in nlp(\"lemme that\")])"
   ]
  },
  {
   "cell_type": "code",
   "execution_count": 7,
   "id": "571a3b87",
   "metadata": {},
   "outputs": [
    {
     "name": "stdout",
     "output_type": "stream",
     "text": [
      "['lem', 'me', '!', '!']\n"
     ]
    }
   ],
   "source": [
    "print([w.text for w in nlp(\"lemme!!\")])"
   ]
  },
  {
   "cell_type": "code",
   "execution_count": 8,
   "id": "30645b8c",
   "metadata": {},
   "outputs": [
    {
     "name": "stdout",
     "output_type": "stream",
     "text": [
      "Let \t SPECIAL-1\n",
      "'s \t SPECIAL-2\n",
      "go \t TOKEN\n",
      "! \t SUFFIX\n"
     ]
    }
   ],
   "source": [
    "#debugging the tokenizer\n",
    "\n",
    "import spacy\n",
    "nlp = spacy.load(\"en_core_web_md\")\n",
    "text = \"Let's go!\"\n",
    "doc = nlp(text)\n",
    "\n",
    "tok_exp = nlp.tokenizer.explain(text)\n",
    "for t in tok_exp:\n",
    "    print(t[1], \"\\t\", t[0])"
   ]
  },
  {
   "cell_type": "code",
   "execution_count": 10,
   "id": "5f233935",
   "metadata": {},
   "outputs": [
    {
     "name": "stdout",
     "output_type": "stream",
     "text": [
      "I flied to N.Y yesterday.\n",
      "It was around 5pm\n"
     ]
    }
   ],
   "source": [
    "#sentence segmentation\n",
    "import spacy\n",
    "nlp = spacy.load('en_core_web_md')\n",
    "text = \"I flied to N.Y yesterday. It was around 5pm\"\n",
    "\n",
    "doc = nlp(text)\n",
    "for sent in doc.sents:\n",
    "    print(sent.text)"
   ]
  },
  {
   "cell_type": "code",
   "execution_count": 12,
   "id": "94032fc6",
   "metadata": {},
   "outputs": [
    {
     "name": "stdout",
     "output_type": "stream",
     "text": [
      "I I\n",
      "went go\n",
      "there there\n",
      "for for\n",
      "working working\n",
      "and and\n",
      "worked work\n",
      "for for\n",
      "3 3\n",
      "years year\n",
      ". .\n"
     ]
    }
   ],
   "source": [
    "#understanding lemmatization\n",
    "import spacy\n",
    "nlp = spacy.load('en_core_web_md')\n",
    "doc = nlp(\"I went there for working and worked for 3 years.\")\n",
    "for token in doc:\n",
    "    print(token.text, token.lemma_)"
   ]
  },
  {
   "cell_type": "code",
   "execution_count": 23,
   "id": "be1eb3ed",
   "metadata": {},
   "outputs": [
    {
     "ename": "ValueError",
     "evalue": "[E997] Tokenizer special cases are not allowed to modify the text. This would map 'Angeltown' to 'LosAngeles' given token attributes '[{65: 'LosAngeles'}]'.",
     "output_type": "error",
     "traceback": [
      "\u001b[1;31m---------------------------------------------------------------------------\u001b[0m",
      "\u001b[1;31mValueError\u001b[0m                                Traceback (most recent call last)",
      "\u001b[1;32m~\\AppData\\Local\\Temp/ipykernel_12240/4236561937.py\u001b[0m in \u001b[0;36m<module>\u001b[1;34m\u001b[0m\n\u001b[0;32m      6\u001b[0m \u001b[0mspecial_case\u001b[0m \u001b[1;33m=\u001b[0m \u001b[1;33m[\u001b[0m\u001b[1;33m{\u001b[0m\u001b[0mORTH\u001b[0m\u001b[1;33m:\u001b[0m \u001b[1;34m'Angeltown'\u001b[0m\u001b[1;33m,\u001b[0m \u001b[0mORTH\u001b[0m\u001b[1;33m:\u001b[0m \u001b[1;34m'LosAngeles'\u001b[0m\u001b[1;33m}\u001b[0m\u001b[1;33m]\u001b[0m\u001b[1;33m\u001b[0m\u001b[1;33m\u001b[0m\u001b[0m\n\u001b[0;32m      7\u001b[0m \u001b[1;33m\u001b[0m\u001b[0m\n\u001b[1;32m----> 8\u001b[1;33m \u001b[0mnlp\u001b[0m\u001b[1;33m.\u001b[0m\u001b[0mtokenizer\u001b[0m\u001b[1;33m.\u001b[0m\u001b[0madd_special_case\u001b[0m\u001b[1;33m(\u001b[0m\u001b[1;34m'Angeltown'\u001b[0m\u001b[1;33m,\u001b[0m \u001b[0mspecial_case\u001b[0m\u001b[1;33m)\u001b[0m\u001b[1;33m\u001b[0m\u001b[1;33m\u001b[0m\u001b[0m\n\u001b[0m\u001b[0;32m      9\u001b[0m \u001b[1;33m\u001b[0m\u001b[0m\n\u001b[0;32m     10\u001b[0m \u001b[0mdoc\u001b[0m \u001b[1;33m=\u001b[0m \u001b[0mnlp\u001b[0m\u001b[1;33m(\u001b[0m\u001b[1;34m'I am flying to Angeltown'\u001b[0m\u001b[1;33m)\u001b[0m\u001b[1;33m\u001b[0m\u001b[1;33m\u001b[0m\u001b[0m\n",
      "\u001b[1;32m~\\AppData\\Roaming\\Python\\Python39\\site-packages\\spacy\\tokenizer.pyx\u001b[0m in \u001b[0;36mspacy.tokenizer.Tokenizer.add_special_case\u001b[1;34m()\u001b[0m\n",
      "\u001b[1;32m~\\AppData\\Roaming\\Python\\Python39\\site-packages\\spacy\\tokenizer.pyx\u001b[0m in \u001b[0;36mspacy.tokenizer.Tokenizer._validate_special_case\u001b[1;34m()\u001b[0m\n",
      "\u001b[1;31mValueError\u001b[0m: [E997] Tokenizer special cases are not allowed to modify the text. This would map 'Angeltown' to 'LosAngeles' given token attributes '[{65: 'LosAngeles'}]'."
     ]
    }
   ],
   "source": [
    "#lemmatization in NLU\n",
    "import spacy\n",
    "from spacy.symbols import ORTH\n",
    "\n",
    "nlp = spacy.load('en_core_web_md')\n",
    "special_case = [{ORTH: 'Angeltown', ORTH: 'Los Angeles'}]\n",
    "\n",
    "nlp.tokenizer.add_special_case('Angeltown', special_case)\n",
    "\n",
    "doc = nlp('I am flying to Angeltown')\n",
    "for token in doc:\n",
    "    print(token.text, token.lemma_)"
   ]
  },
  {
   "cell_type": "markdown",
   "id": "d27a7be4",
   "metadata": {},
   "source": [
    " spacy container objects"
   ]
  },
  {
   "cell_type": "code",
   "execution_count": 26,
   "id": "2f2025fa",
   "metadata": {},
   "outputs": [
    {
     "data": {
      "text/plain": [
       "'I like cats.'"
      ]
     },
     "execution_count": 26,
     "metadata": {},
     "output_type": "execute_result"
    }
   ],
   "source": [
    "#Doc\n",
    "import spacy\n",
    "nlp = spacy.load('en_core_web_md')\n",
    "\n",
    "doc = nlp(\"I like cats.\")\n",
    "doc.text"
   ]
  },
  {
   "cell_type": "code",
   "execution_count": 27,
   "id": "73759d13",
   "metadata": {},
   "outputs": [
    {
     "name": "stdout",
     "output_type": "stream",
     "text": [
      "I\n",
      "like\n",
      "cats\n",
      ".\n"
     ]
    }
   ],
   "source": [
    "for token in doc:\n",
    "    print(token.text)"
   ]
  },
  {
   "cell_type": "code",
   "execution_count": 28,
   "id": "f6379646",
   "metadata": {},
   "outputs": [
    {
     "data": {
      "text/plain": [
       "like"
      ]
     },
     "execution_count": 28,
     "metadata": {},
     "output_type": "execute_result"
    }
   ],
   "source": [
    "doc[1]"
   ]
  },
  {
   "cell_type": "code",
   "execution_count": 30,
   "id": "cde971c8",
   "metadata": {},
   "outputs": [
    {
     "data": {
      "text/plain": [
       "4"
      ]
     },
     "execution_count": 30,
     "metadata": {},
     "output_type": "execute_result"
    }
   ],
   "source": [
    "len(doc) #number of token"
   ]
  },
  {
   "cell_type": "code",
   "execution_count": 31,
   "id": "136beb43",
   "metadata": {},
   "outputs": [
    {
     "data": {
      "text/plain": [
       "<generator at 0x16e6e8c0ae0>"
      ]
     },
     "execution_count": 31,
     "metadata": {},
     "output_type": "execute_result"
    }
   ],
   "source": [
    "doc = nlp(\"This is a first sentence. This is the second sentence/\")\n",
    "doc.sents"
   ]
  },
  {
   "cell_type": "code",
   "execution_count": 33,
   "id": "6c981548",
   "metadata": {},
   "outputs": [
    {
     "name": "stdout",
     "output_type": "stream",
     "text": [
      "[This is a first sentence., This is the second sentence/]\n"
     ]
    }
   ],
   "source": [
    "sentences = list(doc.sents)\n",
    "print(sentences)"
   ]
  },
  {
   "cell_type": "code",
   "execution_count": 34,
   "id": "71db990e",
   "metadata": {},
   "outputs": [
    {
     "data": {
      "text/plain": [
       "(New York, Ashley)"
      ]
     },
     "execution_count": 34,
     "metadata": {},
     "output_type": "execute_result"
    }
   ],
   "source": [
    "doc = nlp(\"I flied to New York with Ashley.\")\n",
    "doc.ents"
   ]
  },
  {
   "cell_type": "code",
   "execution_count": 38,
   "id": "0f4f447b",
   "metadata": {},
   "outputs": [
    {
     "data": {
      "text/plain": [
       "[Sweet brown fox, the fence]"
      ]
     },
     "execution_count": 38,
     "metadata": {},
     "output_type": "execute_result"
    }
   ],
   "source": [
    "doc = nlp(\"Sweet brown fox jumped over the fence.\")\n",
    "list(doc.noun_chunks)"
   ]
  },
  {
   "cell_type": "code",
   "execution_count": 39,
   "id": "e97582cf",
   "metadata": {},
   "outputs": [
    {
     "data": {
      "text/plain": [
       "'en'"
      ]
     },
     "execution_count": 39,
     "metadata": {},
     "output_type": "execute_result"
    }
   ],
   "source": [
    "doc.lang_"
   ]
  },
  {
   "cell_type": "code",
   "execution_count": 41,
   "id": "1cb2e66b",
   "metadata": {},
   "outputs": [
    {
     "name": "stdout",
     "output_type": "stream",
     "text": [
      "{'text': 'Hi', 'ents': [], 'sents': [{'start': 0, 'end': 2}], 'tokens': [{'id': 0, 'start': 0, 'end': 2, 'tag': 'UH', 'pos': 'INTJ', 'morph': '', 'lemma': 'hi', 'dep': 'ROOT', 'head': 0}]}\n"
     ]
    }
   ],
   "source": [
    "doc = nlp('Hi')\n",
    "json_doc = doc.to_json()\n",
    "print(json_doc)"
   ]
  },
  {
   "cell_type": "code",
   "execution_count": 42,
   "id": "a28d12fd",
   "metadata": {},
   "outputs": [
    {
     "data": {
      "text/plain": [
       "Hello"
      ]
     },
     "execution_count": 42,
     "metadata": {},
     "output_type": "execute_result"
    }
   ],
   "source": [
    "#Token\n",
    "#class: token.text, token.text_with_ws, token.i, token.idx, token.doc, token.sent, token.is_sent_start, token.ent_type\n",
    "\n",
    "doc = nlp(\"Hello Madam!\")\n",
    "doc[0]"
   ]
  },
  {
   "cell_type": "code",
   "execution_count": 43,
   "id": "0b49ee86",
   "metadata": {},
   "outputs": [
    {
     "data": {
      "text/plain": [
       "'Hello'"
      ]
     },
     "execution_count": 43,
     "metadata": {},
     "output_type": "execute_result"
    }
   ],
   "source": [
    "doc[0].text"
   ]
  },
  {
   "cell_type": "code",
   "execution_count": 44,
   "id": "69bdd873",
   "metadata": {},
   "outputs": [
    {
     "data": {
      "text/plain": [
       "'Hello '"
      ]
     },
     "execution_count": 44,
     "metadata": {},
     "output_type": "execute_result"
    }
   ],
   "source": [
    "doc[0].text_with_ws"
   ]
  },
  {
   "cell_type": "code",
   "execution_count": 45,
   "id": "33a68968",
   "metadata": {},
   "outputs": [
    {
     "data": {
      "text/plain": [
       "'!'"
      ]
     },
     "execution_count": 45,
     "metadata": {},
     "output_type": "execute_result"
    }
   ],
   "source": [
    "doc[2].text_with_ws"
   ]
  },
  {
   "cell_type": "code",
   "execution_count": 46,
   "id": "2bf0ea0e",
   "metadata": {},
   "outputs": [
    {
     "data": {
      "text/plain": [
       "5"
      ]
     },
     "execution_count": 46,
     "metadata": {},
     "output_type": "execute_result"
    }
   ],
   "source": [
    "len(doc[0])"
   ]
  },
  {
   "cell_type": "code",
   "execution_count": 47,
   "id": "7ea47ce0",
   "metadata": {},
   "outputs": [
    {
     "data": {
      "text/plain": [
       "2"
      ]
     },
     "execution_count": 47,
     "metadata": {},
     "output_type": "execute_result"
    }
   ],
   "source": [
    "token = doc[2]\n",
    "token.i"
   ]
  },
  {
   "cell_type": "code",
   "execution_count": 48,
   "id": "832c8aeb",
   "metadata": {},
   "outputs": [
    {
     "data": {
      "text/plain": [
       "0"
      ]
     },
     "execution_count": 48,
     "metadata": {},
     "output_type": "execute_result"
    }
   ],
   "source": [
    "doc[0].idx"
   ]
  },
  {
   "cell_type": "code",
   "execution_count": 49,
   "id": "bfb331c7",
   "metadata": {},
   "outputs": [
    {
     "data": {
      "text/plain": [
       "6"
      ]
     },
     "execution_count": 49,
     "metadata": {},
     "output_type": "execute_result"
    }
   ],
   "source": [
    "doc[1].idx"
   ]
  },
  {
   "cell_type": "code",
   "execution_count": 50,
   "id": "7e073c91",
   "metadata": {},
   "outputs": [
    {
     "data": {
      "text/plain": [
       "Hello Madam!"
      ]
     },
     "execution_count": 50,
     "metadata": {},
     "output_type": "execute_result"
    }
   ],
   "source": [
    "token = doc[0]\n",
    "token.doc"
   ]
  },
  {
   "cell_type": "code",
   "execution_count": 52,
   "id": "328e7c03",
   "metadata": {},
   "outputs": [
    {
     "data": {
      "text/plain": [
       "Hello Madam!"
      ]
     },
     "execution_count": 52,
     "metadata": {},
     "output_type": "execute_result"
    }
   ],
   "source": [
    "token = doc[1]\n",
    "token.sent"
   ]
  },
  {
   "cell_type": "code",
   "execution_count": 53,
   "id": "a38ece28",
   "metadata": {},
   "outputs": [
    {
     "data": {
      "text/plain": [
       "True"
      ]
     },
     "execution_count": 53,
     "metadata": {},
     "output_type": "execute_result"
    }
   ],
   "source": [
    "doc = nlp(\"He entered the room. Then he nodded.\")\n",
    "doc[0].is_sent_start"
   ]
  },
  {
   "cell_type": "code",
   "execution_count": 54,
   "id": "ba2bfa30",
   "metadata": {},
   "outputs": [
    {
     "data": {
      "text/plain": [
       "True"
      ]
     },
     "execution_count": 54,
     "metadata": {},
     "output_type": "execute_result"
    }
   ],
   "source": [
    "doc[5].is_sent_start"
   ]
  },
  {
   "cell_type": "code",
   "execution_count": 56,
   "id": "a797bb6c",
   "metadata": {},
   "outputs": [
    {
     "data": {
      "text/plain": [
       "False"
      ]
     },
     "execution_count": 56,
     "metadata": {},
     "output_type": "execute_result"
    }
   ],
   "source": [
    "doc[6].is_sent_start"
   ]
  },
  {
   "cell_type": "code",
   "execution_count": 57,
   "id": "dad12abb",
   "metadata": {},
   "outputs": [
    {
     "data": {
      "text/plain": [
       "'go'"
      ]
     },
     "execution_count": 57,
     "metadata": {},
     "output_type": "execute_result"
    }
   ],
   "source": [
    "#lemmatize\n",
    "doc = nlp(\"I went there.\")\n",
    "doc[1].lemma_"
   ]
  },
  {
   "cell_type": "code",
   "execution_count": 58,
   "id": "370faf42",
   "metadata": {},
   "outputs": [
    {
     "data": {
      "text/plain": [
       "(Trump, Mexico City)"
      ]
     },
     "execution_count": 58,
     "metadata": {},
     "output_type": "execute_result"
    }
   ],
   "source": [
    "doc = nlp(\"President Trump visited Mexico City.\")\n",
    "doc.ents"
   ]
  },
  {
   "cell_type": "code",
   "execution_count": 59,
   "id": "5bde12e4",
   "metadata": {},
   "outputs": [
    {
     "data": {
      "text/plain": [
       "'PERSON'"
      ]
     },
     "execution_count": 59,
     "metadata": {},
     "output_type": "execute_result"
    }
   ],
   "source": [
    "doc[1].ent_type_"
   ]
  },
  {
   "cell_type": "code",
   "execution_count": 60,
   "id": "cc192167",
   "metadata": {},
   "outputs": [
    {
     "data": {
      "text/plain": [
       "'GPE'"
      ]
     },
     "execution_count": 60,
     "metadata": {},
     "output_type": "execute_result"
    }
   ],
   "source": [
    "doc[3].ent_type_"
   ]
  },
  {
   "cell_type": "code",
   "execution_count": 61,
   "id": "4c9618f4",
   "metadata": {},
   "outputs": [
    {
     "data": {
      "text/plain": [
       "'GPE'"
      ]
     },
     "execution_count": 61,
     "metadata": {},
     "output_type": "execute_result"
    }
   ],
   "source": [
    "doc[4].ent_type_"
   ]
  },
  {
   "cell_type": "code",
   "execution_count": 62,
   "id": "07d0055c",
   "metadata": {},
   "outputs": [
    {
     "data": {
      "text/plain": [
       "''"
      ]
     },
     "execution_count": 62,
     "metadata": {},
     "output_type": "execute_result"
    }
   ],
   "source": [
    "doc[0].ent_type_"
   ]
  },
  {
   "cell_type": "code",
   "execution_count": 63,
   "id": "61d35167",
   "metadata": {},
   "outputs": [
    {
     "data": {
      "text/plain": [
       "that you"
      ]
     },
     "execution_count": 63,
     "metadata": {},
     "output_type": "execute_result"
    }
   ],
   "source": [
    "#Span\n",
    "\n",
    "doc = nlp(\"I know that you have been to USA.\")\n",
    "doc[2:4]"
   ]
  },
  {
   "cell_type": "code",
   "execution_count": 1,
   "id": "dd8c6e3a",
   "metadata": {},
   "outputs": [],
   "source": [
    "import spacy\n",
    "nlp = spacy.load('en_core_web_md')"
   ]
  },
  {
   "cell_type": "code",
   "execution_count": 3,
   "id": "6c5faf2b",
   "metadata": {},
   "outputs": [
    {
     "data": {
      "text/plain": [
       "City"
      ]
     },
     "execution_count": 3,
     "metadata": {},
     "output_type": "execute_result"
    }
   ],
   "source": [
    "doc = nlp(\"President visited Mexico City\")\n",
    "doc[3:]"
   ]
  },
  {
   "cell_type": "code",
   "execution_count": 4,
   "id": "cc67931b",
   "metadata": {},
   "outputs": [
    {
     "data": {
      "text/plain": [
       "Mexico"
      ]
     },
     "execution_count": 4,
     "metadata": {},
     "output_type": "execute_result"
    }
   ],
   "source": [
    "doc[2: -1]"
   ]
  },
  {
   "cell_type": "code",
   "execution_count": 5,
   "id": "d253a598",
   "metadata": {},
   "outputs": [
    {
     "data": {
      "text/plain": []
     },
     "execution_count": 5,
     "metadata": {},
     "output_type": "execute_result"
    }
   ],
   "source": [
    "doc[6:]"
   ]
  },
  {
   "cell_type": "code",
   "execution_count": 6,
   "id": "3d2cbff3",
   "metadata": {},
   "outputs": [
    {
     "data": {
      "text/plain": [
       "love Atlanta"
      ]
     },
     "execution_count": 6,
     "metadata": {},
     "output_type": "execute_result"
    }
   ],
   "source": [
    "doc = nlp(\"You love Atlanta sice you're 20.\")\n",
    "doc.char_span(4, 16)"
   ]
  },
  {
   "cell_type": "code",
   "execution_count": 8,
   "id": "28eb7aa1",
   "metadata": {},
   "outputs": [
    {
     "name": "stdout",
     "output_type": "stream",
     "text": [
      "there\n",
      "after\n"
     ]
    }
   ],
   "source": [
    "doc = nlp('You went there after you saw me.')\n",
    "span = doc[2:4]\n",
    "for token in span:\n",
    "    print(token)"
   ]
  },
  {
   "cell_type": "code",
   "execution_count": 9,
   "id": "fcbd88e8",
   "metadata": {},
   "outputs": [
    {
     "data": {
      "text/plain": [
       "1"
      ]
     },
     "execution_count": 9,
     "metadata": {},
     "output_type": "execute_result"
    }
   ],
   "source": [
    "doc = nlp(\"Hello Madam!\")\n",
    "span = doc[1:2]\n",
    "len(span)"
   ]
  },
  {
   "cell_type": "code",
   "execution_count": 10,
   "id": "cfa15e4d",
   "metadata": {},
   "outputs": [
    {
     "data": {
      "text/plain": [
       "there after you saw"
      ]
     },
     "execution_count": 10,
     "metadata": {},
     "output_type": "execute_result"
    }
   ],
   "source": [
    "doc = nlp(\"You went there after you saw me.\")\n",
    "span = doc[2:6]\n",
    "span"
   ]
  },
  {
   "cell_type": "code",
   "execution_count": 12,
   "id": "83be91af",
   "metadata": {},
   "outputs": [
    {
     "data": {
      "text/plain": [
       "after you"
      ]
     },
     "execution_count": 12,
     "metadata": {},
     "output_type": "execute_result"
    }
   ],
   "source": [
    "subspan = span[1:3]\n",
    "subspan"
   ]
  },
  {
   "cell_type": "code",
   "execution_count": 13,
   "id": "9acd156b",
   "metadata": {},
   "outputs": [
    {
     "data": {
      "text/plain": [
       "2"
      ]
     },
     "execution_count": 13,
     "metadata": {},
     "output_type": "execute_result"
    }
   ],
   "source": [
    "doc = nlp(\"You went there after you saw me.\")\n",
    "span = doc[2:6]\n",
    "span.start"
   ]
  },
  {
   "cell_type": "code",
   "execution_count": 14,
   "id": "4e531693",
   "metadata": {},
   "outputs": [
    {
     "data": {
      "text/plain": [
       "6"
      ]
     },
     "execution_count": 14,
     "metadata": {},
     "output_type": "execute_result"
    }
   ],
   "source": [
    "span.end"
   ]
  },
  {
   "cell_type": "code",
   "execution_count": 15,
   "id": "bb2851fa",
   "metadata": {},
   "outputs": [
    {
     "data": {
      "text/plain": [
       "9"
      ]
     },
     "execution_count": 15,
     "metadata": {},
     "output_type": "execute_result"
    }
   ],
   "source": [
    "span.start_char"
   ]
  },
  {
   "cell_type": "code",
   "execution_count": 16,
   "id": "9fed5c16",
   "metadata": {},
   "outputs": [
    {
     "data": {
      "text/plain": [
       "28"
      ]
     },
     "execution_count": 16,
     "metadata": {},
     "output_type": "execute_result"
    }
   ],
   "source": [
    "span.end_char"
   ]
  },
  {
   "cell_type": "code",
   "execution_count": 17,
   "id": "a563af28",
   "metadata": {},
   "outputs": [
    {
     "data": {
      "text/plain": [
       "spacy.tokens.span.Span"
      ]
     },
     "execution_count": 17,
     "metadata": {},
     "output_type": "execute_result"
    }
   ],
   "source": [
    "doc = nlp(\"You went there after you saw me.\")\n",
    "span = doc[2:6]\n",
    "type(span)"
   ]
  },
  {
   "cell_type": "code",
   "execution_count": 20,
   "id": "a1bdb2ac",
   "metadata": {},
   "outputs": [
    {
     "data": {
      "text/plain": [
       "spacy.tokens.doc.Doc"
      ]
     },
     "execution_count": 20,
     "metadata": {},
     "output_type": "execute_result"
    }
   ],
   "source": [
    "small_doc = span.as_doc()\n",
    "type(small_doc)"
   ]
  },
  {
   "cell_type": "markdown",
   "id": "91b9db19",
   "metadata": {},
   "source": [
    "More Spacy Features"
   ]
  },
  {
   "cell_type": "code",
   "execution_count": 21,
   "id": "31ebdfee",
   "metadata": {},
   "outputs": [
    {
     "data": {
      "text/plain": [
       "'hello'"
      ]
     },
     "execution_count": 21,
     "metadata": {},
     "output_type": "execute_result"
    }
   ],
   "source": [
    "doc = nlp(\"Hello, hi!\")\n",
    "doc[0].lower_"
   ]
  },
  {
   "cell_type": "code",
   "execution_count": 23,
   "id": "1f32d454",
   "metadata": {},
   "outputs": [
    {
     "data": {
      "text/plain": [
       "True"
      ]
     },
     "execution_count": 23,
     "metadata": {},
     "output_type": "execute_result"
    }
   ],
   "source": [
    "doc = nlp(\"HELLO, Hello, hello, hEllO\")\n",
    "doc[0].is_upper\n"
   ]
  },
  {
   "cell_type": "code",
   "execution_count": 24,
   "id": "86f89799",
   "metadata": {},
   "outputs": [
    {
     "data": {
      "text/plain": [
       "False"
      ]
     },
     "execution_count": 24,
     "metadata": {},
     "output_type": "execute_result"
    }
   ],
   "source": [
    "doc[0].is_lower"
   ]
  },
  {
   "cell_type": "code",
   "execution_count": 25,
   "id": "125edc1e",
   "metadata": {},
   "outputs": [
    {
     "data": {
      "text/plain": [
       "False"
      ]
     },
     "execution_count": 25,
     "metadata": {},
     "output_type": "execute_result"
    }
   ],
   "source": [
    "doc[1].is_upper"
   ]
  },
  {
   "cell_type": "code",
   "execution_count": 26,
   "id": "ab512730",
   "metadata": {},
   "outputs": [
    {
     "data": {
      "text/plain": [
       "False"
      ]
     },
     "execution_count": 26,
     "metadata": {},
     "output_type": "execute_result"
    }
   ],
   "source": [
    "doc[1].is_lower"
   ]
  },
  {
   "cell_type": "code",
   "execution_count": 27,
   "id": "a91f1ae4",
   "metadata": {},
   "outputs": [
    {
     "data": {
      "text/plain": [
       "False"
      ]
     },
     "execution_count": 27,
     "metadata": {},
     "output_type": "execute_result"
    }
   ],
   "source": [
    "doc[1].is_alpha"
   ]
  },
  {
   "cell_type": "code",
   "execution_count": 28,
   "id": "75181a13",
   "metadata": {},
   "outputs": [
    {
     "data": {
      "text/plain": [
       "True"
      ]
     },
     "execution_count": 28,
     "metadata": {},
     "output_type": "execute_result"
    }
   ],
   "source": [
    "doc = nlp(\"Cat and Cat123\")\n",
    "doc[0].is_alpha"
   ]
  },
  {
   "cell_type": "code",
   "execution_count": 29,
   "id": "88e0d6da",
   "metadata": {},
   "outputs": [
    {
     "data": {
      "text/plain": [
       "False"
      ]
     },
     "execution_count": 29,
     "metadata": {},
     "output_type": "execute_result"
    }
   ],
   "source": [
    "doc[2].is_alpha"
   ]
  },
  {
   "cell_type": "code",
   "execution_count": 30,
   "id": "1505879a",
   "metadata": {},
   "outputs": [
    {
     "data": {
      "text/plain": [
       "True"
      ]
     },
     "execution_count": 30,
     "metadata": {},
     "output_type": "execute_result"
    }
   ],
   "source": [
    "doc = nlp(\"Hamburg and Göttingen\")\n",
    "doc[0].is_ascii"
   ]
  },
  {
   "cell_type": "code",
   "execution_count": 31,
   "id": "2a2f6258",
   "metadata": {},
   "outputs": [
    {
     "data": {
      "text/plain": [
       "False"
      ]
     },
     "execution_count": 31,
     "metadata": {},
     "output_type": "execute_result"
    }
   ],
   "source": [
    "doc[2].is_ascii"
   ]
  },
  {
   "cell_type": "code",
   "execution_count": 32,
   "id": "c3da78e2",
   "metadata": {},
   "outputs": [
    {
     "data": {
      "text/plain": [
       "False"
      ]
     },
     "execution_count": 32,
     "metadata": {},
     "output_type": "execute_result"
    }
   ],
   "source": [
    "doc = nlp(\"Cat Cat123 123\")\n",
    "doc[0].is_digit"
   ]
  },
  {
   "cell_type": "code",
   "execution_count": 33,
   "id": "1dac6cf3",
   "metadata": {},
   "outputs": [
    {
     "data": {
      "text/plain": [
       "False"
      ]
     },
     "execution_count": 33,
     "metadata": {},
     "output_type": "execute_result"
    }
   ],
   "source": [
    "doc[1].is_digit"
   ]
  },
  {
   "cell_type": "code",
   "execution_count": 34,
   "id": "b6f0abf8",
   "metadata": {},
   "outputs": [
    {
     "data": {
      "text/plain": [
       "True"
      ]
     },
     "execution_count": 34,
     "metadata": {},
     "output_type": "execute_result"
    }
   ],
   "source": [
    "doc[2].is_digit"
   ]
  },
  {
   "cell_type": "code",
   "execution_count": 35,
   "id": "737761c6",
   "metadata": {},
   "outputs": [
    {
     "data": {
      "text/plain": [
       ","
      ]
     },
     "execution_count": 35,
     "metadata": {},
     "output_type": "execute_result"
    }
   ],
   "source": [
    "doc = nlp(\"You, him and Sally\")\n",
    "doc[1]"
   ]
  },
  {
   "cell_type": "code",
   "execution_count": 36,
   "id": "b5a6c108",
   "metadata": {},
   "outputs": [
    {
     "data": {
      "text/plain": [
       "True"
      ]
     },
     "execution_count": 36,
     "metadata": {},
     "output_type": "execute_result"
    }
   ],
   "source": [
    "doc[1].is_punct"
   ]
  },
  {
   "cell_type": "code",
   "execution_count": 48,
   "id": "eabfc192",
   "metadata": {},
   "outputs": [
    {
     "data": {
      "text/plain": [
       "("
      ]
     },
     "execution_count": 48,
     "metadata": {},
     "output_type": "execute_result"
    }
   ],
   "source": [
    "doc = nlp(\"([He said yes,])\")\n",
    "doc[0]"
   ]
  },
  {
   "cell_type": "code",
   "execution_count": 49,
   "id": "1f4f3b46",
   "metadata": {},
   "outputs": [
    {
     "data": {
      "text/plain": [
       "True"
      ]
     },
     "execution_count": 49,
     "metadata": {},
     "output_type": "execute_result"
    }
   ],
   "source": [
    "doc[0].is_left_punct"
   ]
  },
  {
   "cell_type": "code",
   "execution_count": 50,
   "id": "07d7ae7f",
   "metadata": {},
   "outputs": [
    {
     "data": {
      "text/plain": [
       "["
      ]
     },
     "execution_count": 50,
     "metadata": {},
     "output_type": "execute_result"
    }
   ],
   "source": [
    "doc[1]"
   ]
  },
  {
   "cell_type": "code",
   "execution_count": 51,
   "id": "ccf7ea98",
   "metadata": {},
   "outputs": [
    {
     "data": {
      "text/plain": [
       "True"
      ]
     },
     "execution_count": 51,
     "metadata": {},
     "output_type": "execute_result"
    }
   ],
   "source": [
    "doc[1].is_left_punct"
   ]
  },
  {
   "cell_type": "code",
   "execution_count": 52,
   "id": "f9fcb626",
   "metadata": {},
   "outputs": [
    {
     "data": {
      "text/plain": [
       ")"
      ]
     },
     "execution_count": 52,
     "metadata": {},
     "output_type": "execute_result"
    }
   ],
   "source": [
    "doc[-1]"
   ]
  },
  {
   "cell_type": "code",
   "execution_count": 53,
   "id": "94c526eb",
   "metadata": {},
   "outputs": [
    {
     "data": {
      "text/plain": [
       "True"
      ]
     },
     "execution_count": 53,
     "metadata": {},
     "output_type": "execute_result"
    }
   ],
   "source": [
    "doc[-1].is_right_punct"
   ]
  },
  {
   "cell_type": "code",
   "execution_count": 54,
   "id": "4376d8a8",
   "metadata": {},
   "outputs": [
    {
     "data": {
      "text/plain": [
       "]"
      ]
     },
     "execution_count": 54,
     "metadata": {},
     "output_type": "execute_result"
    }
   ],
   "source": [
    "doc[-2]"
   ]
  },
  {
   "cell_type": "code",
   "execution_count": 55,
   "id": "7079b68e",
   "metadata": {},
   "outputs": [
    {
     "data": {
      "text/plain": [
       "True"
      ]
     },
     "execution_count": 55,
     "metadata": {},
     "output_type": "execute_result"
    }
   ],
   "source": [
    "doc[-2].is_right_punct"
   ]
  },
  {
   "cell_type": "code",
   "execution_count": 56,
   "id": "36697bb2",
   "metadata": {},
   "outputs": [
    {
     "data": {
      "text/plain": [
       " "
      ]
     },
     "execution_count": 56,
     "metadata": {},
     "output_type": "execute_result"
    }
   ],
   "source": [
    "doc = nlp(\" \")\n",
    "doc[0]"
   ]
  },
  {
   "cell_type": "code",
   "execution_count": 57,
   "id": "738dc6cb",
   "metadata": {},
   "outputs": [
    {
     "data": {
      "text/plain": [
       "1"
      ]
     },
     "execution_count": 57,
     "metadata": {},
     "output_type": "execute_result"
    }
   ],
   "source": [
    "len(doc[0])"
   ]
  },
  {
   "cell_type": "code",
   "execution_count": 58,
   "id": "37195d73",
   "metadata": {},
   "outputs": [
    {
     "data": {
      "text/plain": [
       "True"
      ]
     },
     "execution_count": 58,
     "metadata": {},
     "output_type": "execute_result"
    }
   ],
   "source": [
    "doc[0].is_space"
   ]
  },
  {
   "cell_type": "code",
   "execution_count": 59,
   "id": "01236de7",
   "metadata": {},
   "outputs": [
    {
     "data": {
      "text/plain": [
       "(True, True)"
      ]
     },
     "execution_count": 59,
     "metadata": {},
     "output_type": "execute_result"
    }
   ],
   "source": [
    "doc = nlp(\"(You said [1] and {2} is not applicable.)\")\n",
    "doc[0].is_bracket, doc[-1].is_bracket"
   ]
  },
  {
   "cell_type": "code",
   "execution_count": 60,
   "id": "c183bd18",
   "metadata": {},
   "outputs": [
    {
     "data": {
      "text/plain": [
       "(True, True)"
      ]
     },
     "execution_count": 60,
     "metadata": {},
     "output_type": "execute_result"
    }
   ],
   "source": [
    "doc[3].is_bracket, doc[5].is_bracket"
   ]
  },
  {
   "cell_type": "code",
   "execution_count": 61,
   "id": "2668b1b0",
   "metadata": {},
   "outputs": [
    {
     "data": {
      "text/plain": [
       "(True, True)"
      ]
     },
     "execution_count": 61,
     "metadata": {},
     "output_type": "execute_result"
    }
   ],
   "source": [
    "doc[7].is_bracket, doc[9].is_bracket"
   ]
  },
  {
   "cell_type": "code",
   "execution_count": 62,
   "id": "9df009ba",
   "metadata": {},
   "outputs": [
    {
     "data": {
      "text/plain": [
       "'"
      ]
     },
     "execution_count": 62,
     "metadata": {},
     "output_type": "execute_result"
    }
   ],
   "source": [
    "doc = nlp(\"( You said '1\\\" is not applicable)\")\n",
    "doc[3]"
   ]
  },
  {
   "cell_type": "code",
   "execution_count": 63,
   "id": "7a37f033",
   "metadata": {},
   "outputs": [
    {
     "data": {
      "text/plain": [
       "True"
      ]
     },
     "execution_count": 63,
     "metadata": {},
     "output_type": "execute_result"
    }
   ],
   "source": [
    "doc[3].is_quote"
   ]
  },
  {
   "cell_type": "code",
   "execution_count": 64,
   "id": "b1a31d0d",
   "metadata": {},
   "outputs": [
    {
     "data": {
      "text/plain": [
       "\""
      ]
     },
     "execution_count": 64,
     "metadata": {},
     "output_type": "execute_result"
    }
   ],
   "source": [
    "doc[5]"
   ]
  },
  {
   "cell_type": "code",
   "execution_count": 65,
   "id": "6ae04509",
   "metadata": {},
   "outputs": [
    {
     "data": {
      "text/plain": [
       "True"
      ]
     },
     "execution_count": 65,
     "metadata": {},
     "output_type": "execute_result"
    }
   ],
   "source": [
    "doc[5].is_quote"
   ]
  },
  {
   "cell_type": "code",
   "execution_count": 66,
   "id": "2ff23f59",
   "metadata": {},
   "outputs": [
    {
     "data": {
      "text/plain": [
       "$"
      ]
     },
     "execution_count": 66,
     "metadata": {},
     "output_type": "execute_result"
    }
   ],
   "source": [
    "doc = nlp(\"I paid 12$ for the tshirt.\")\n",
    "doc[3]"
   ]
  },
  {
   "cell_type": "code",
   "execution_count": 67,
   "id": "f99d5fb3",
   "metadata": {},
   "outputs": [
    {
     "data": {
      "text/plain": [
       "True"
      ]
     },
     "execution_count": 67,
     "metadata": {},
     "output_type": "execute_result"
    }
   ],
   "source": [
    "doc[3].is_currency"
   ]
  },
  {
   "cell_type": "code",
   "execution_count": 68,
   "id": "998bd525",
   "metadata": {},
   "outputs": [
    {
     "data": {
      "text/plain": [
       "100"
      ]
     },
     "execution_count": 68,
     "metadata": {},
     "output_type": "execute_result"
    }
   ],
   "source": [
    "doc = nlp(\"I emailed you at least 100 times\")\n",
    "doc[-2]\n"
   ]
  },
  {
   "cell_type": "code",
   "execution_count": 69,
   "id": "3de3a78b",
   "metadata": {},
   "outputs": [
    {
     "data": {
      "text/plain": [
       "True"
      ]
     },
     "execution_count": 69,
     "metadata": {},
     "output_type": "execute_result"
    }
   ],
   "source": [
    "doc[-2].like_num"
   ]
  },
  {
   "cell_type": "code",
   "execution_count": 70,
   "id": "80d0d20c",
   "metadata": {},
   "outputs": [
    {
     "data": {
      "text/plain": [
       "hundred"
      ]
     },
     "execution_count": 70,
     "metadata": {},
     "output_type": "execute_result"
    }
   ],
   "source": [
    "doc = nlp(\"I emailed you at least hundred times\")\n",
    "doc[-2]\n"
   ]
  },
  {
   "cell_type": "code",
   "execution_count": 72,
   "id": "fc44f245",
   "metadata": {},
   "outputs": [
    {
     "data": {
      "text/plain": [
       "True"
      ]
     },
     "execution_count": 72,
     "metadata": {},
     "output_type": "execute_result"
    }
   ],
   "source": [
    "doc[-2].like_num"
   ]
  },
  {
   "cell_type": "code",
   "execution_count": 73,
   "id": "e6127352",
   "metadata": {},
   "outputs": [
    {
     "data": {
      "text/plain": [
       "duygu@packt.com"
      ]
     },
     "execution_count": 73,
     "metadata": {},
     "output_type": "execute_result"
    }
   ],
   "source": [
    "doc = nlp(\"My email is duygu@packt.com and you can visit me under https://duygua.github.io any time you want.\")\n",
    "doc[3]"
   ]
  },
  {
   "cell_type": "code",
   "execution_count": 74,
   "id": "646c020e",
   "metadata": {},
   "outputs": [
    {
     "data": {
      "text/plain": [
       "True"
      ]
     },
     "execution_count": 74,
     "metadata": {},
     "output_type": "execute_result"
    }
   ],
   "source": [
    "doc[3].like_email"
   ]
  },
  {
   "cell_type": "code",
   "execution_count": 75,
   "id": "19bdae1e",
   "metadata": {},
   "outputs": [
    {
     "data": {
      "text/plain": [
       "https://duygua.github.io"
      ]
     },
     "execution_count": 75,
     "metadata": {},
     "output_type": "execute_result"
    }
   ],
   "source": [
    "doc[10]"
   ]
  },
  {
   "cell_type": "code",
   "execution_count": 76,
   "id": "119dd9d5",
   "metadata": {},
   "outputs": [
    {
     "data": {
      "text/plain": [
       "True"
      ]
     },
     "execution_count": 76,
     "metadata": {},
     "output_type": "execute_result"
    }
   ],
   "source": [
    "doc[10].like_url"
   ]
  },
  {
   "cell_type": "code",
   "execution_count": 77,
   "id": "a00e5838",
   "metadata": {},
   "outputs": [
    {
     "name": "stdout",
     "output_type": "stream",
     "text": [
      "Girl Xxxx\n",
      "called xxxx\n",
      "Kathy Xxxxx\n",
      "has xxx\n",
      "a x\n",
      "nickname xxxx\n",
      "Cat123 Xxxddd\n",
      ". .\n"
     ]
    }
   ],
   "source": [
    "doc = nlp(\"Girl called Kathy has a nickname Cat123.\")\n",
    "for token in doc:\n",
    "    print(token.text, token.shape_)"
   ]
  },
  {
   "cell_type": "code",
   "execution_count": 78,
   "id": "709ad62c",
   "metadata": {},
   "outputs": [
    {
     "name": "stdout",
     "output_type": "stream",
     "text": [
      "I False\n",
      "visited False\n",
      "Jenny False\n",
      "at False\n",
      "Mynks True\n",
      "Resort False\n",
      ". False\n"
     ]
    }
   ],
   "source": [
    "doc = nlp(\"I visited Jenny at Mynks Resort.\")\n",
    "for token in doc:\n",
    "    print(token, token.is_oov)"
   ]
  },
  {
   "cell_type": "code",
   "execution_count": 79,
   "id": "932ff22a",
   "metadata": {},
   "outputs": [
    {
     "name": "stdout",
     "output_type": "stream",
     "text": [
      "I True\n",
      "just True\n",
      "wnat False\n",
      "to True\n",
      "inform False\n",
      "you True\n",
      "that True\n",
      "I True\n",
      "was True\n",
      "with True\n",
      "the True\n",
      "principle False\n",
      ". False\n"
     ]
    }
   ],
   "source": [
    "doc = nlp(\"I just wnat to inform you that I was with the principle.\")\n",
    "for token in doc:\n",
    "    print(token, token.is_stop)"
   ]
  },
  {
   "cell_type": "code",
   "execution_count": null,
   "id": "3859a0d0",
   "metadata": {},
   "outputs": [],
   "source": []
  }
 ],
 "metadata": {
  "kernelspec": {
   "display_name": "Python 3 (ipykernel)",
   "language": "python",
   "name": "python3"
  },
  "language_info": {
   "codemirror_mode": {
    "name": "ipython",
    "version": 3
   },
   "file_extension": ".py",
   "mimetype": "text/x-python",
   "name": "python",
   "nbconvert_exporter": "python",
   "pygments_lexer": "ipython3",
   "version": "3.9.6"
  }
 },
 "nbformat": 4,
 "nbformat_minor": 5
}
