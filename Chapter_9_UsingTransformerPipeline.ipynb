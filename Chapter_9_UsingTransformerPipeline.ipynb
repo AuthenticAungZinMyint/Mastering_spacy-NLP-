{
 "cells": [
  {
   "cell_type": "markdown",
   "id": "c3cca46f",
   "metadata": {},
   "source": [
    "     Using Transformer pipeline\n",
    "   list of hugging Face provide variety of NLP model tasks\n",
    "       1. Sentiment analysis\n",
    "       2. Questioning answering\n",
    "       3. NER\n",
    "       4. Translation"
   ]
  },
  {
   "cell_type": "markdown",
   "id": "ebad8457",
   "metadata": {},
   "source": [
    "#Here it is a quite data comsuming analysis so recommand to run in google colab cuz it's online tool and ready to run not to worry about internet data\n",
    "#so I recommand this code into Colab and see the awesome result.\n",
    "#pipeline for sentiment analysis\n",
    "\n",
    "from transformers import pipeline\n",
    "nlp = pipeline(\"sentiment-analysis\")\n",
    "\n",
    "sent1 = \"I hate you so much right now.\"\n",
    "sent2 = \"I love fresh air and exercising.\"\n",
    "\n",
    "result1 = nlp(sent1)\n",
    "result2 = nlp(sent2)"
   ]
  },
  {
   "cell_type": "markdown",
   "id": "744007d4",
   "metadata": {},
   "source": [
    "#pipeline for question-answering\n",
    "from transformers import pipeline\n",
    "nlp = pipeline(\"question-answering\")\n",
    "res = nlp({\n",
    "    'question': 'What is the name of this book?',\n",
    "    'context': \"I'll publish my new book An artist's Confession soon.\"\n",
    "})\n",
    "print(res)"
   ]
  }
 ],
 "metadata": {
  "kernelspec": {
   "display_name": "Python 3 (ipykernel)",
   "language": "python",
   "name": "python3"
  },
  "language_info": {
   "codemirror_mode": {
    "name": "ipython",
    "version": 3
   },
   "file_extension": ".py",
   "mimetype": "text/x-python",
   "name": "python",
   "nbconvert_exporter": "python",
   "pygments_lexer": "ipython3",
   "version": "3.9.6"
  }
 },
 "nbformat": 4,
 "nbformat_minor": 5
}
