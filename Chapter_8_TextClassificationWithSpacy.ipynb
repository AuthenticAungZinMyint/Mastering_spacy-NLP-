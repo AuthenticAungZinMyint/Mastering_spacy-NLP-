{
 "cells": [
  {
   "cell_type": "markdown",
   "id": "5d5432a4",
   "metadata": {},
   "source": [
    " Training the Spacy text classifier"
   ]
  },
  {
   "cell_type": "code",
   "execution_count": 4,
   "id": "5c82313b",
   "metadata": {},
   "outputs": [
    {
     "data": {
      "text/plain": [
       "<spacy.pipeline.textcat.TextCategorizer at 0x20031b2d720>"
      ]
     },
     "execution_count": 4,
     "metadata": {},
     "output_type": "execute_result"
    }
   ],
   "source": [
    "#adding single-label text-categorizer to pipeline\n",
    "from spacy.pipeline.textcat import DEFAULT_SINGLE_TEXTCAT_MODEL\n",
    "import spacy\n",
    "\n",
    "nlp = spacy.load(\"en_core_web_md\")\n",
    "\n",
    "config = {\n",
    "    \"threshold\": 0.5,\n",
    "    \"model\": DEFAULT_SINGLE_TEXTCAT_MODEL\n",
    "}\n",
    "textcat = nlp.add_pipe(\"textcat\", config=config)\n",
    "textcat"
   ]
  },
  {
   "cell_type": "code",
   "execution_count": 7,
   "id": "f3f4ac96",
   "metadata": {},
   "outputs": [
    {
     "data": {
      "text/plain": [
       "<spacy.pipeline.textcat_multilabel.MultiLabel_TextCategorizer at 0x20040acf4a0>"
      ]
     },
     "execution_count": 7,
     "metadata": {},
     "output_type": "execute_result"
    }
   ],
   "source": [
    "#adding multi-labeltext categorizer to pipeline\n",
    "\n",
    "from spacy.pipeline.textcat_multilabel import DEFAULT_MULTI_TEXTCAT_MODEL\n",
    "import spacy\n",
    "\n",
    "nlp = spacy.load('en_core_web_md')\n",
    "\n",
    "config = {\n",
    "    \"threshold\": 0.5,\n",
    "    \"model\": DEFAULT_MULTI_TEXTCAT_MODEL\n",
    "}\n",
    "\n",
    "textcat = nlp.add_pipe(\"textcat_multilabel\", config=config)\n",
    "textcat"
   ]
  },
  {
   "cell_type": "markdown",
   "id": "ffaeb982",
   "metadata": {},
   "source": [
    " Formatting training data for the text categorizer"
   ]
  },
  {
   "cell_type": "code",
   "execution_count": 35,
   "id": "99640ee8",
   "metadata": {},
   "outputs": [],
   "source": [
    "train_set = [\n",
    "    (\"I love this product, very easy to use.\", \n",
    "     {\"cats\": {\"semtiment\": 1}}),\n",
    "    (\"I'll definately purchase again. I recommand this product.\",\n",
    "    {\"cats\": {\"sentiment\": 1}}),\n",
    "    (\"This is the best product ever. I loved the scent and the feel. Will buy again.\",\n",
    "    {\"cats\": {\"sentiment\": 1}}),\n",
    "    (\"Disappointed. This product didn't work for me at all.\",\n",
    "    {\"cats\": {\"sentiment\": 0}}),\n",
    "    (\"I hate the scent. Won't buy again\",\n",
    "    {\"cats\": {\"sentiment\": 0}}),\n",
    "    (\"Truly horrible product. Very few amount of product for a high price. Don't recommand.\",\n",
    "    {\"cats\": {\"sentiment\": 0}})\n",
    "]"
   ]
  },
  {
   "cell_type": "code",
   "execution_count": 36,
   "id": "2279a876",
   "metadata": {},
   "outputs": [],
   "source": [
    "#import necessary\n",
    "import random\n",
    "import spacy\n",
    "from spacy.training import Example\n",
    "from spacy.pipeline.textcat import DEFAULT_SINGLE_TEXTCAT_MODEL\n",
    "\n",
    "nlp = spacy.load(\"en_core_web_md\")\n",
    "config = {\n",
    "    \"threshold\": 0.5,\n",
    "    \"model\": DEFAULT_SINGLE_TEXTCAT_MODEL\n",
    "}\n",
    "\n",
    "textcat = nlp.add_pipe('textcat', config=config)"
   ]
  },
  {
   "cell_type": "code",
   "execution_count": 37,
   "id": "d9dc89bc",
   "metadata": {},
   "outputs": [],
   "source": [
    "#initialize \n",
    "textcat.add_label(\"sentiment\")\n",
    "train_examples = [Example.from_dict(nlp.make_doc(text), label)\n",
    "                 for text, label in train_set]\n",
    "textcat.initialize(lambda: train_examples, nlp = nlp)"
   ]
  },
  {
   "cell_type": "markdown",
   "id": "97dd3eef",
   "metadata": {},
   "source": [
    " Defining training loop"
   ]
  },
  {
   "cell_type": "code",
   "execution_count": 38,
   "id": "3e7e3d6f",
   "metadata": {},
   "outputs": [
    {
     "name": "stdout",
     "output_type": "stream",
     "text": [
      "{'textcat': 0.25}\n",
      "{'textcat': 0.23991741240024567}\n",
      "{'textcat': 0.27470338344573975}\n",
      "{'textcat': 0.2639513313770294}\n",
      "{'textcat': 0.23380617797374725}\n",
      "{'textcat': 0.24180001020431519}\n",
      "{'textcat': 0.23025275766849518}\n",
      "{'textcat': 0.2358265221118927}\n",
      "{'textcat': 0.2511146068572998}\n",
      "{'textcat': 0.18645083904266357}\n",
      "{'textcat': 0.20686204731464386}\n",
      "{'textcat': 0.26627978682518005}\n",
      "{'textcat': 0.22527912259101868}\n",
      "{'textcat': 0.16168811917304993}\n",
      "{'textcat': 0.2226589322090149}\n",
      "{'textcat': 0.09856107085943222}\n",
      "{'textcat': 0.1643703579902649}\n",
      "{'textcat': 0.1222798153758049}\n",
      "{'textcat': 0.10860157012939453}\n",
      "{'textcat': 0.13397707045078278}\n",
      "{'textcat': 0.039275266230106354}\n",
      "{'textcat': 0.06343962252140045}\n",
      "{'textcat': 0.12224934995174408}\n",
      "{'textcat': 0.09284649789333344}\n",
      "{'textcat': 0.04253553971648216}\n",
      "{'textcat': 0.053513091057538986}\n",
      "{'textcat': 0.021047065034508705}\n",
      "{'textcat': 0.038666825741529465}\n",
      "{'textcat': 0.08046813309192657}\n",
      "{'textcat': 0.004520265851169825}\n",
      "{'textcat': 0.014356446452438831}\n",
      "{'textcat': 0.05581081658601761}\n",
      "{'textcat': 0.0019312383374199271}\n",
      "{'textcat': 0.007001354359090328}\n",
      "{'textcat': 0.006853328552097082}\n",
      "{'textcat': 0.00154934695456177}\n",
      "{'textcat': 0.003481557359918952}\n",
      "{'textcat': 0.023463455960154533}\n",
      "{'textcat': 0.0014749395195394754}\n",
      "{'textcat': 0.00044331865501590073}\n",
      "{'textcat': 0.00016636823420412838}\n",
      "{'textcat': 0.0007054457091726363}\n",
      "{'textcat': 0.0005248348461464047}\n",
      "{'textcat': 0.007845341227948666}\n",
      "{'textcat': 5.22644113516435e-05}\n",
      "{'textcat': 7.851794362068176e-05}\n",
      "{'textcat': 0.00024399164249189198}\n",
      "{'textcat': 0.00016353593673557043}\n",
      "{'textcat': 0.00013063321239314973}\n",
      "{'textcat': 0.0018105809576809406}\n",
      "{'textcat': 0.00010452498827362433}\n",
      "{'textcat': 1.9902978237951174e-05}\n",
      "{'textcat': 3.669820216600783e-05}\n",
      "{'textcat': 6.928448783583008e-06}\n",
      "{'textcat': 5.822006187372608e-06}\n",
      "{'textcat': 2.013938319578301e-05}\n",
      "{'textcat': 3.016633854713291e-05}\n",
      "{'textcat': 7.181881755968789e-06}\n",
      "{'textcat': 0.00043596376781351864}\n",
      "{'textcat': 2.4998760636663064e-05}\n",
      "{'textcat': 4.846010142500745e-06}\n",
      "{'textcat': 0.0002825660922098905}\n",
      "{'textcat': 6.989901976339752e-06}\n",
      "{'textcat': 1.7157039110315964e-05}\n",
      "{'textcat': 1.629753455745231e-06}\n",
      "{'textcat': 1.2198627700854558e-05}\n",
      "{'textcat': 1.3461296475725248e-05}\n",
      "{'textcat': 2.4335258785868064e-06}\n",
      "{'textcat': 3.7791148770338623e-06}\n",
      "{'textcat': 0.00010605399438645691}\n",
      "{'textcat': 8.688864909345284e-06}\n",
      "{'textcat': 9.386448027726146e-07}\n",
      "{'textcat': 8.961899766291026e-06}\n",
      "{'textcat': 2.565521072028787e-06}\n",
      "{'textcat': 1.4976952797951526e-06}\n",
      "{'textcat': 7.385901881207246e-07}\n",
      "{'textcat': 6.387228040694026e-06}\n",
      "{'textcat': 5.349585262592882e-05}\n",
      "{'textcat': 4.855498264078051e-05}\n",
      "{'textcat': 5.701407644664869e-06}\n",
      "{'textcat': 6.229143764358014e-06}\n",
      "{'textcat': 5.598440111498348e-07}\n",
      "{'textcat': 1.0238458116873517e-06}\n",
      "{'textcat': 1.503953967585403e-06}\n",
      "{'textcat': 2.6067300495924428e-05}\n",
      "{'textcat': 4.820172989639104e-07}\n",
      "{'textcat': 8.851897632666805e-07}\n",
      "{'textcat': 1.2895168310933514e-06}\n",
      "{'textcat': 5.016274371882901e-06}\n",
      "{'textcat': 4.3657628339133225e-06}\n",
      "{'textcat': 4.726621227746364e-06}\n",
      "{'textcat': 1.1058853033318883e-06}\n",
      "{'textcat': 3.979657321906416e-06}\n",
      "{'textcat': 3.710862586103758e-07}\n",
      "{'textcat': 1.3449489415506832e-05}\n",
      "{'textcat': 6.564360433003458e-07}\n",
      "{'textcat': 6.373479664034676e-07}\n",
      "{'textcat': 1.154519668489229e-05}\n",
      "{'textcat': 3.364777285241871e-06}\n",
      "{'textcat': 8.428465889664949e-07}\n",
      "{'textcat': 3.0604610401496757e-07}\n",
      "{'textcat': 3.4945833249366842e-06}\n",
      "{'textcat': 5.409467576100724e-07}\n",
      "{'textcat': 2.835516283994366e-07}\n",
      "{'textcat': 7.289478958227846e-07}\n",
      "{'textcat': 8.147638254740741e-06}\n",
      "{'textcat': 3.1110632789932424e-06}\n",
      "{'textcat': 2.74251965493022e-06}\n",
      "{'textcat': 2.9594639272545464e-06}\n",
      "{'textcat': 6.348628289742919e-07}\n",
      "{'textcat': 2.391892053310585e-07}\n",
      "{'textcat': 2.4742239475017413e-06}\n",
      "{'textcat': 4.19196766188179e-07}\n",
      "{'textcat': 6.501618372567464e-06}\n",
      "{'textcat': 2.4971532184281386e-06}\n",
      "{'textcat': 5.386155521591718e-07}\n",
      "{'textcat': 2.072132190278353e-07}\n",
      "{'textcat': 3.71947038502185e-07}\n",
      "{'textcat': 5.7053935051953886e-06}\n",
      "{'textcat': 2.0560948996717343e-06}\n"
     ]
    }
   ],
   "source": [
    "epochs = 20\n",
    "with nlp.select_pipes(enable=\"textcat\"):\n",
    "    optimizer = nlp.resume_training()\n",
    "    for i in range(epochs):\n",
    "        random.shuffle(train_examples)\n",
    "        for example in train_examples:\n",
    "            print(nlp.update([example], sgd=optimizer))"
   ]
  },
  {
   "cell_type": "markdown",
   "id": "b0665cc5",
   "metadata": {},
   "source": [
    " Testing the new component"
   ]
  },
  {
   "cell_type": "code",
   "execution_count": 39,
   "id": "8f7c5617",
   "metadata": {},
   "outputs": [
    {
     "data": {
      "text/plain": [
       "{'sentiment': 0.6802538633346558, 'semtiment': 0.31974607706069946}"
      ]
     },
     "execution_count": 39,
     "metadata": {},
     "output_type": "execute_result"
    }
   ],
   "source": [
    "doc2 = nlp(\"this product sucks\")    \n",
    "doc2.cats"
   ]
  },
  {
   "cell_type": "code",
   "execution_count": 27,
   "id": "354d6938",
   "metadata": {},
   "outputs": [
    {
     "data": {
      "text/plain": [
       "{'semtiment': 0.09758125990629196, 'sentiment': 0.9024186730384827}"
      ]
     },
     "execution_count": 27,
     "metadata": {},
     "output_type": "execute_result"
    }
   ],
   "source": [
    "doc3 = nlp(\"this product is great\")\n",
    "doc3.cats"
   ]
  },
  {
   "cell_type": "code",
   "execution_count": 28,
   "id": "34da0675",
   "metadata": {},
   "outputs": [
    {
     "data": {
      "text/plain": [
       "{'semtiment': 0.9808443784713745, 'sentiment': 0.01915563829243183}"
      ]
     },
     "execution_count": 28,
     "metadata": {},
     "output_type": "execute_result"
    }
   ],
   "source": [
    "doc4 = nlp(\"I hate this scent.\")\n",
    "doc4.cats"
   ]
  },
  {
   "cell_type": "code",
   "execution_count": 29,
   "id": "6a622886",
   "metadata": {},
   "outputs": [
    {
     "data": {
      "text/plain": [
       "{'semtiment': 0.2958841323852539, 'sentiment': 0.7041159272193909}"
      ]
     },
     "execution_count": 29,
     "metadata": {},
     "output_type": "execute_result"
    }
   ],
   "source": [
    "doc5 = nlp(\"I love this product.\")\n",
    "doc5.cats"
   ]
  },
  {
   "cell_type": "markdown",
   "id": "409fde5d",
   "metadata": {},
   "source": [
    " Training TextCategorizer for multilabel Classification"
   ]
  },
  {
   "cell_type": "code",
   "execution_count": 30,
   "id": "99cf9664",
   "metadata": {},
   "outputs": [],
   "source": [
    "train_data = [\n",
    "    (\"It's the perfect movie for a Sunday evening.\",\n",
    "    {\"cats\": {\"SUNDAY_EVENING\": True}}),\n",
    "    (\"Very good thriller\",\n",
    "    {\"cats\": {\"THRILLER\": True}}),\n",
    "    (\"A great movie for the kids and all the family\",\n",
    "    {\"cats\": {\"FAMILY\": True, }}),\n",
    "    (\"An ideal movie for Sunday night with all the family. My kids loved the movie.\",\n",
    "    {\"cats\": {\"FAMILY\": True, \"SUNDAY_EVENING\": True}}),\n",
    "    (\"A perfect thriller for all the family. No violence, no drugs, pure action.\",\n",
    "    {\"cats\": {\"FAMILY\": True, \"THRILLER\": True}})\n",
    "]"
   ]
  },
  {
   "cell_type": "code",
   "execution_count": 31,
   "id": "df8786ef",
   "metadata": {},
   "outputs": [],
   "source": [
    "import random\n",
    "import spacy\n",
    "from spacy.training import Example\n",
    "from spacy.pipeline.textcat_multilabel import DEFAULT_MULTI_TEXTCAT_MODEL\n",
    "\n",
    "nlp = spacy.load(\"en_core_web_md\")\n",
    "\n",
    "config = {\n",
    "    \"threshold\": 0.5,\n",
    "    \"model\": DEFAULT_MULTI_TEXTCAT_MODEL\n",
    "}\n",
    "textcat = nlp.add_pipe(\"textcat_multilabel\", config=config)\n",
    "\n",
    "labels = [\"FAMILY\", \"THRILLER\", \"SUNDAY_EVENING\"]\n",
    "for label in labels:\n",
    "    textcat.add_label(label)\n",
    "\n",
    "train_examples = [Example.from_dict(nlp.make_doc(text), label) \n",
    "                 for text, label in train_data]\n",
    "textcat.initialize(lambda: train_examples, nlp=nlp)"
   ]
  },
  {
   "cell_type": "code",
   "execution_count": 32,
   "id": "7502b42f",
   "metadata": {},
   "outputs": [
    {
     "name": "stdout",
     "output_type": "stream",
     "text": [
      "{'textcat_multilabel': 0.6712846159934998}\n",
      "{'textcat_multilabel': 0.019092481583356857}\n",
      "{'textcat_multilabel': 0.6086833477020264}\n",
      "{'textcat_multilabel': 0.45422717928886414}\n",
      "{'textcat_multilabel': 0.008088719099760056}\n",
      "{'textcat_multilabel': 2.6057587092509493e-05}\n",
      "{'textcat_multilabel': 6.207443448147387e-10}\n",
      "{'textcat_multilabel': 6.87805368215777e-12}\n",
      "{'textcat_multilabel': 0.00021799537353217602}\n",
      "{'textcat_multilabel': 1.618150963622611e-05}\n",
      "{'textcat_multilabel': 2.4016344468691386e-10}\n",
      "{'textcat_multilabel': 6.310978642432019e-05}\n",
      "{'textcat_multilabel': 1.3793173820886295e-05}\n",
      "{'textcat_multilabel': 1.1095360150648048e-06}\n",
      "{'textcat_multilabel': 4.604316927725449e-12}\n",
      "{'textcat_multilabel': 4.604316927725449e-12}\n",
      "{'textcat_multilabel': 1.9218769011786208e-05}\n",
      "{'textcat_multilabel': 6.128281029305072e-07}\n",
      "{'textcat_multilabel': 1.6575540939811617e-10}\n",
      "{'textcat_multilabel': 1.0602448128338438e-05}\n",
      "{'textcat_multilabel': 4.811535063709016e-07}\n",
      "{'textcat_multilabel': 9.851549293671269e-06}\n",
      "{'textcat_multilabel': 3.637978807091713e-12}\n",
      "{'textcat_multilabel': 1.5967316358000971e-10}\n",
      "{'textcat_multilabel': 9.060308002517559e-06}\n",
      "{'textcat_multilabel': 1.5967316358000971e-10}\n",
      "{'textcat_multilabel': 8.086843990895431e-06}\n",
      "{'textcat_multilabel': 8.119419362628832e-06}\n",
      "{'textcat_multilabel': 3.391955942788627e-07}\n",
      "{'textcat_multilabel': 3.197442310920451e-12}\n",
      "{'textcat_multilabel': 7.518887287005782e-06}\n",
      "{'textcat_multilabel': 1.566746732351021e-10}\n",
      "{'textcat_multilabel': 3.197442310920451e-12}\n",
      "{'textcat_multilabel': 6.072747055441141e-06}\n",
      "{'textcat_multilabel': 3.048409666916996e-07}\n",
      "{'textcat_multilabel': 5.703115675714798e-06}\n",
      "{'textcat_multilabel': 2.975547772621212e-07}\n",
      "{'textcat_multilabel': 3.197442310920451e-12}\n",
      "{'textcat_multilabel': 6.45741192784044e-06}\n",
      "{'textcat_multilabel': 1.5370460459962487e-10}\n",
      "{'textcat_multilabel': 2.8800917561966344e-07}\n",
      "{'textcat_multilabel': 6.16717261436861e-06}\n",
      "{'textcat_multilabel': 1.5370460459962487e-10}\n",
      "{'textcat_multilabel': 4.776773494086228e-06}\n",
      "{'textcat_multilabel': 3.197442310920451e-12}\n",
      "{'textcat_multilabel': 3.197442310920451e-12}\n",
      "{'textcat_multilabel': 1.5370460459962487e-10}\n",
      "{'textcat_multilabel': 2.785025117191253e-07}\n",
      "{'textcat_multilabel': 5.632131433230825e-06}\n",
      "{'textcat_multilabel': 4.400453690323047e-06}\n",
      "{'textcat_multilabel': 3.197442310920451e-12}\n",
      "{'textcat_multilabel': 4.2940755520248786e-06}\n",
      "{'textcat_multilabel': 1.5370460459962487e-10}\n",
      "{'textcat_multilabel': 5.348570084606763e-06}\n",
      "{'textcat_multilabel': 2.7314175099490967e-07}\n",
      "{'textcat_multilabel': 1.5076295767357806e-10}\n",
      "{'textcat_multilabel': 5.181338565307669e-06}\n",
      "{'textcat_multilabel': 2.716229232646583e-07}\n",
      "{'textcat_multilabel': 3.992985966760898e-06}\n",
      "{'textcat_multilabel': 2.7853275241795927e-12}\n",
      "{'textcat_multilabel': 1.5076295767357806e-10}\n",
      "{'textcat_multilabel': 2.7853275241795927e-12}\n",
      "{'textcat_multilabel': 2.695598197988147e-07}\n",
      "{'textcat_multilabel': 3.831479261862114e-06}\n",
      "{'textcat_multilabel': 4.816371074412018e-06}\n",
      "{'textcat_multilabel': 4.770576197188348e-06}\n",
      "{'textcat_multilabel': 1.5076295767357806e-10}\n",
      "{'textcat_multilabel': 3.197442310920451e-12}\n",
      "{'textcat_multilabel': 3.6945859847037354e-06}\n",
      "{'textcat_multilabel': 2.674282768566627e-07}\n",
      "{'textcat_multilabel': 1.5076295767357806e-10}\n",
      "{'textcat_multilabel': 3.197442310920451e-12}\n",
      "{'textcat_multilabel': 3.5908387872041203e-06}\n",
      "{'textcat_multilabel': 2.6636888605935383e-07}\n",
      "{'textcat_multilabel': 4.436818926478736e-06}\n",
      "{'textcat_multilabel': 1.4784973245696165e-10}\n",
      "{'textcat_multilabel': 3.4865654470195295e-06}\n",
      "{'textcat_multilabel': 4.354249540483579e-06}\n",
      "{'textcat_multilabel': 2.65071378180437e-07}\n",
      "{'textcat_multilabel': 3.197442310920451e-12}\n",
      "{'textcat_multilabel': 2.6459136392986693e-07}\n",
      "{'textcat_multilabel': 3.197442310920451e-12}\n",
      "{'textcat_multilabel': 3.3483970582892653e-06}\n",
      "{'textcat_multilabel': 1.4784973245696165e-10}\n",
      "{'textcat_multilabel': 4.175576123088831e-06}\n",
      "{'textcat_multilabel': 3.27960492541024e-06}\n",
      "{'textcat_multilabel': 4.122198333789129e-06}\n",
      "{'textcat_multilabel': 2.6295828092770535e-07}\n",
      "{'textcat_multilabel': 3.197442310920451e-12}\n",
      "{'textcat_multilabel': 1.4784973245696165e-10}\n",
      "{'textcat_multilabel': 4.003813501185505e-06}\n",
      "{'textcat_multilabel': 3.1640634006180335e-06}\n",
      "{'textcat_multilabel': 1.4496492894977564e-10}\n",
      "{'textcat_multilabel': 3.197442310920451e-12}\n",
      "{'textcat_multilabel': 2.6159037247452943e-07}\n",
      "{'textcat_multilabel': 3.077093879255699e-06}\n",
      "{'textcat_multilabel': 2.61251585698119e-07}\n",
      "{'textcat_multilabel': 3.197442310920451e-12}\n",
      "{'textcat_multilabel': 3.814001729551819e-06}\n",
      "{'textcat_multilabel': 1.4496492894977564e-10}\n"
     ]
    }
   ],
   "source": [
    "epochs = 20\n",
    "with nlp.select_pipes(enable=\"textcat_multilabel\"):\n",
    "    optimizer = nlp.resume_training()\n",
    "    \n",
    "    for i in range(epochs):\n",
    "        random.shuffle(train_data)\n",
    "        for text, label in train_data:\n",
    "            doc = nlp.make_doc(text)\n",
    "            example = Example.from_dict(doc, label)\n",
    "            print(nlp.update([example], sgd=optimizer))"
   ]
  },
  {
   "cell_type": "code",
   "execution_count": 34,
   "id": "d4aa8662",
   "metadata": {},
   "outputs": [
    {
     "data": {
      "text/plain": [
       "{'FAMILY': 0.9949304461479187,\n",
       " 'THRILLER': 0.4520221948623657,\n",
       " 'SUNDAY_EVENING': 0.9664487838745117}"
      ]
     },
     "execution_count": 34,
     "metadata": {},
     "output_type": "execute_result"
    }
   ],
   "source": [
    "doc2 = nlp(\"Definately in my Sunday movie night list\")\n",
    "doc2.cats"
   ]
  },
  {
   "cell_type": "code",
   "execution_count": null,
   "id": "eee1d8c6",
   "metadata": {},
   "outputs": [],
   "source": []
  }
 ],
 "metadata": {
  "kernelspec": {
   "display_name": "Python 3 (ipykernel)",
   "language": "python",
   "name": "python3"
  },
  "language_info": {
   "codemirror_mode": {
    "name": "ipython",
    "version": 3
   },
   "file_extension": ".py",
   "mimetype": "text/x-python",
   "name": "python",
   "nbconvert_exporter": "python",
   "pygments_lexer": "ipython3",
   "version": "3.9.6"
  }
 },
 "nbformat": 4,
 "nbformat_minor": 5
}
